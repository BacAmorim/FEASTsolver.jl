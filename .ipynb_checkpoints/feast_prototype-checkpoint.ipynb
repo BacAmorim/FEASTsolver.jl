{
 "cells": [
  {
   "cell_type": "code",
   "execution_count": 1,
   "metadata": {},
   "outputs": [],
   "source": [
    "using LinearAlgebra, FastGaussQuadrature\n",
    "using KrylovKit, ArnoldiMethod, LinearMaps, SparseArrays\n",
    "using BenchmarkTools, PyPlot, Profile, ProfileVega"
   ]
  },
  {
   "cell_type": "code",
   "execution_count": 3,
   "metadata": {},
   "outputs": [
    {
     "data": {
      "text/plain": [
       "chain1D (generic function with 1 method)"
      ]
     },
     "execution_count": 3,
     "metadata": {},
     "output_type": "execute_result"
    }
   ],
   "source": [
    "function chain1D(N, W)\n",
    "\n",
    "    I = Int[]\n",
    "    J = Int[]\n",
    "    V = Float64[]\n",
    "    \n",
    "    for n in 1:N\n",
    "        push!(J, n)\n",
    "        push!(I, mod1(n+1, N))\n",
    "        push!(V, -1.0)\n",
    "        \n",
    "        push!(J, n)\n",
    "        push!(I, mod1(n-1, N))\n",
    "        push!(V, -1.0)\n",
    "        \n",
    "        u = W*2*(rand()-0.5)\n",
    "        push!(J, n)\n",
    "        push!(I, n)\n",
    "        push!(V, u)\n",
    "    end\n",
    "    \n",
    "    return sparse(I, J, V)\n",
    "end   \n"
   ]
  },
  {
   "cell_type": "code",
   "execution_count": 4,
   "metadata": {},
   "outputs": [
    {
     "data": {
      "text/plain": [
       "cauchynodes (generic function with 1 method)"
      ]
     },
     "execution_count": 4,
     "metadata": {},
     "output_type": "execute_result"
    }
   ],
   "source": [
    "# to obtain nodes use \n",
    "# https://github.com/JuliaApproximation/FastGaussQuadrature.jl\n",
    "function cauchynodes(λmin, λmax, cpts)\n",
    "    \n",
    "    xs, ws = gausslegendre(cpts)\n",
    "    \n",
    "    c = (λmax + λmin)/2\n",
    "    R = (λmax - λmin)/2\n",
    "    \n",
    "    weights = zeros(Complex{Float64}, 2*cpts)\n",
    "    points = zeros(Complex{Float64}, 2*cpts)\n",
    "    \n",
    "    for k in 1:cpts\n",
    "        weights[k] = ws[k]*R*cis(pi*(xs[k]+1)/2)/4\n",
    "        points[k] = c + R*cis(pi*(xs[k]+1)/2)\n",
    "        \n",
    "        weights[k + cpts] = ws[k]*R*cis(-pi*(xs[k]+1)/2)/4\n",
    "        points[k + cpts] = c + R*cis(-pi*(xs[k]+1)/2)\n",
    "    end\n",
    "    \n",
    "    return points, weights\n",
    "end"
   ]
  },
  {
   "cell_type": "code",
   "execution_count": 5,
   "metadata": {},
   "outputs": [
    {
     "data": {
      "text/plain": [
       "cauchyfilter (generic function with 1 method)"
      ]
     },
     "execution_count": 5,
     "metadata": {},
     "output_type": "execute_result"
    }
   ],
   "source": [
    "function cauchyfilter(ϵ::Number, points, weights)\n",
    "    \n",
    "    accu = 0.0im\n",
    "    \n",
    "    for (zk, wk) in zip(points, weights)\n",
    "        accu += (zk - ϵ)\\wk\n",
    "    end\n",
    "    \n",
    "    return accu\n",
    "end"
   ]
  },
  {
   "cell_type": "code",
   "execution_count": 6,
   "metadata": {},
   "outputs": [],
   "source": [
    "zs, ws = cauchynodes(-1.0, 1.0, 8);"
   ]
  },
  {
   "cell_type": "code",
   "execution_count": 7,
   "metadata": {},
   "outputs": [],
   "source": [
    "ρ(x) = cauchyfilter(x, zs, ws);"
   ]
  },
  {
   "cell_type": "code",
   "execution_count": 8,
   "metadata": {},
   "outputs": [
    {
     "data": {
      "image/png": "[encoded data removed]",
      "text/plain": [
       "Figure(PyObject <Figure size 640x480 with 1 Axes>)"
      ]
     },
     "metadata": {},
     "output_type": "display_data"
    },
    {
     "data": {
      "text/plain": [
       "PyObject <matplotlib.lines.Line2D object at 0x7fe91a5819d0>"
      ]
     },
     "execution_count": 8,
     "metadata": {},
     "output_type": "execute_result"
    }
   ],
   "source": [
    "plot(0.0:0.01:4.0, real.(ρ.(0.0:0.01:4.0)))\n",
    "axvline(1.0, c = \"black\", ls = \"--\")"
   ]
  },
  {
   "cell_type": "code",
   "execution_count": 9,
   "metadata": {},
   "outputs": [
    {
     "data": {
      "text/plain": [
       "mul3mat! (generic function with 1 method)"
      ]
     },
     "execution_count": 9,
     "metadata": {},
     "output_type": "execute_result"
    }
   ],
   "source": [
    "function mul3mat!(Out, A, B, C, temp)\n",
    "    mul!(temp, B, C)\n",
    "    mul!(Out, A', temp)\n",
    "    return Out\n",
    "end"
   ]
  },
  {
   "cell_type": "code",
   "execution_count": 132,
   "metadata": {},
   "outputs": [
    {
     "data": {
      "text/plain": [
       "feast (generic function with 2 methods)"
      ]
     },
     "execution_count": 132,
     "metadata": {},
     "output_type": "execute_result"
    }
   ],
   "source": [
    "# for convergence creeria we will use the relative error of sum of eigenvalues in search interval\n",
    "function feast(A, M0, λmin, λmax; cpts=8, tol=1.0e-12, maxiter=20)\n",
    "    # initial search space of size M0\n",
    "    Y = rand(complex(eltype(A)), size(A, 1), M0)\n",
    "    # contour integral nodes and and weights\n",
    "    zs, ws = cauchynodes(λmin, λmax, cpts)\n",
    "    \n",
    "    return feast(A, Y, zs, ws, λmin, λmax; tol=tol, maxiter=maxiter)\n",
    "end\n",
    "\n",
    "function feast(A, Y, zs, ws, λmin, λmax; tol=1.0e-12, maxiter=30)\n",
    "    \n",
    "    # dimension of problem and of subspace search\n",
    "    N, M0 = size(Y)\n",
    "    \n",
    "    # allocate output\n",
    "    ritzvals = Vector{Complex{eltype(A)}}(undef, M0)\n",
    "    ritzvecs = Matrix{Complex{eltype(A)}}(undef, M0, M0)\n",
    "    \n",
    "    # allocate computation arrays\n",
    "    Q = similar(Y)\n",
    "    q = Vector{eltype(Y)}(undef, N)\n",
    "    AQ = Matrix{eltype(Y)}(undef, M0, M0)\n",
    "    temp = similar(Y)\n",
    "    BQ = Matrix{eltype(Y)}(undef, M0, M0)\n",
    "    \n",
    "    \n",
    "    # convercenve history\n",
    "    neighistory = zeros(Int, maxiter)\n",
    "    errorhistory = zeros(Float64, maxiter)\n",
    "    \n",
    "    # error estimation\n",
    "    previous = 0.0\n",
    "    rerror = 0.0    \n",
    "    iter = 1\n",
    "    \n",
    "    # evaluate and store necessary factorizations\n",
    "    F = [lu(z*I - A) for z in zs]\n",
    "    \n",
    "    while true\n",
    "        \n",
    "        # apply rational filter to Y basis\n",
    "        fill!(Q, zero(eltype(Q)))\n",
    "        \n",
    "        for i in 1:length(zs)\n",
    "            for n in axes(Y, 2)\n",
    "    \n",
    "                ldiv!(q, F[i], view(Y, :, n))\n",
    "                \n",
    "                Q[:, n] .+= ws[i]*q\n",
    "\n",
    "            end\n",
    "        end\n",
    "        \n",
    "        # form effective matrices in reduced subspace\n",
    "        mul3mat!(AQ, Q, A, Q, temp)\n",
    "        mul!(BQ, Q', Q)\n",
    "        \n",
    "        # diagonalize subspace problem\n",
    "        ritzvals, ritzvecs = eigen!(Hermitian(AQ), Hermitian(BQ), sortby = λ -> (!(λmin*(1+tol) < real(λ) <= λmax*(1+tol)), real(λ), imag(λ)))\n",
    "        \n",
    "        # update eigenvectors\n",
    "        mul!(Y, Q, ritzvecs)\n",
    "        \n",
    "        # determine number of eigenvalues is inside\n",
    "        neig = 0\n",
    "        for λ in ritzvals\n",
    "            if λmin < real(λ) <= λmax\n",
    "                neig += 1\n",
    "            end\n",
    "        end\n",
    "        neighistory[iter] = neig\n",
    "        \n",
    "        # estimate relative error of the trace of the eigenvalues\n",
    "        tr = sum(ritzvals[1:neig])\n",
    "        rerror = abs(tr - previous)/abs(tr)\n",
    "        previous = sum(ritzvals[1:neig])\n",
    "        errorhistory[iter] = rerror\n",
    "        \n",
    "        if rerror >= tol \n",
    "            if iter < maxiter # if tolerance is not satisfied and number of iterations small than max, go to next iteration\n",
    "                iter += 1\n",
    "            else # if tolerance is not satisfied but max number of iterations is exceded, throw warning and return result\n",
    "                @warn \"maximum number of iterations, $maxiter, reached\"\n",
    "                return ritzvals, Y, neighistory, errorhistory\n",
    "            end\n",
    "        else # if tolerance is satisfied, return result\n",
    "            return ritzvals, Y, neighistory, errorhistory\n",
    "        end\n",
    "    \n",
    "        end # end while\n",
    "\n",
    "end"
   ]
  },
  {
   "cell_type": "code",
   "execution_count": 86,
   "metadata": {},
   "outputs": [
    {
     "data": {
      "text/plain": [
       "kriloveigen (generic function with 1 method)"
      ]
     },
     "execution_count": 86,
     "metadata": {},
     "output_type": "execute_result"
    }
   ],
   "source": [
    "function shiftinvert(A, shift)\n",
    "    F = lu(A - shift*I)\n",
    "    return LinearMap{complex(eltype(A))}((y, x) -> ldiv!(y, F, x), size(A,1), ismutating=true)\n",
    "end\n",
    "\n",
    "function innereigen(A, shift; kwargs...)\n",
    "    \n",
    "    si = shiftinvert(A, shift)\n",
    "\n",
    "    decomp, history = partialschur(si; kwargs...)\n",
    "    vals_si, vecs = partialeigen(decomp)\n",
    "    \n",
    "    vals = 1 ./ vals_si .+ shift\n",
    "    \n",
    "    return vals, vecs\n",
    "end\n",
    "\n",
    "function kriloveigen(A, shift; nev, kwargs...)\n",
    "    \n",
    "    si = shiftinvert(A, shift)\n",
    "    \n",
    "    vals_si, vecs, info = eigsolve(si, nev; kwargs...)\n",
    "    \n",
    "    vals = 1 ./ vals_si .+ shift\n",
    "    \n",
    "    return vals, vecs\n",
    "end"
   ]
  },
  {
   "cell_type": "code",
   "execution_count": 50,
   "metadata": {},
   "outputs": [],
   "source": [
    "N = 1500;\n",
    "H = chain1D(N, 0.1);\n",
    "vals, vecs = eigen(Matrix(H));"
   ]
  },
  {
   "cell_type": "code",
   "execution_count": 117,
   "metadata": {},
   "outputs": [],
   "source": [
    "λmin, λmax = vals[200], vals[300]\n",
    "zs, ws = cauchynodes(λmin, λmax, 8);"
   ]
  },
  {
   "cell_type": "code",
   "execution_count": 118,
   "metadata": {},
   "outputs": [
    {
     "data": {
      "text/plain": [
       "16"
      ]
     },
     "execution_count": 118,
     "metadata": {},
     "output_type": "execute_result"
    }
   ],
   "source": [
    "length(zs)"
   ]
  },
  {
   "cell_type": "code",
   "execution_count": 119,
   "metadata": {},
   "outputs": [
    {
     "data": {
      "text/plain": [
       "100"
      ]
     },
     "execution_count": 119,
     "metadata": {},
     "output_type": "execute_result"
    }
   ],
   "source": [
    "nev = length(vals[200:300])-1"
   ]
  },
  {
   "cell_type": "code",
   "execution_count": 120,
   "metadata": {},
   "outputs": [],
   "source": [
    "avals, avecs = innereigen(H, (λmin+λmax)/2 + 0.1im; nev = nev, tol = 1.0e-12);"
   ]
  },
  {
   "cell_type": "code",
   "execution_count": 165,
   "metadata": {},
   "outputs": [],
   "source": [
    "BLAS.set_num_threads(1)"
   ]
  },
  {
   "cell_type": "code",
   "execution_count": 166,
   "metadata": {},
   "outputs": [
    {
     "name": "stdout",
     "output_type": "stream",
     "text": [
      "  362.229 ms (1030 allocations: 55.81 MiB)\n"
     ]
    }
   ],
   "source": [
    "@btime innereigen($H, (λmin+λmax)/2 + 0.1im; nev = $nev, tol = 1.0e-12);"
   ]
  },
  {
   "cell_type": "code",
   "execution_count": 167,
   "metadata": {},
   "outputs": [
    {
     "name": "stdout",
     "output_type": "stream",
     "text": [
      "  910.320 ms (17 allocations: 69.20 MiB)\n"
     ]
    }
   ],
   "source": [
    "@btime eigen(Matrix(H));"
   ]
  },
  {
   "cell_type": "code",
   "execution_count": 170,
   "metadata": {},
   "outputs": [
    {
     "ename": "LoadError",
     "evalue": "PosDefException: matrix is not positive definite; Cholesky factorization failed.",
     "output_type": "error",
     "traceback": [
      "PosDefException: matrix is not positive definite; Cholesky factorization failed.",
      "",
      "Stacktrace:",
      " [1] chkposdef at /buildworker/worker/package_linux64/build/usr/share/julia/stdlib/v1.5/LinearAlgebra/src/lapack.jl:50 [inlined]",
      " [2] sygvd!(::Int64, ::Char, ::Char, ::Array{Complex{Float64},2}, ::Array{Complex{Float64},2}) at /buildworker/worker/package_linux64/build/usr/share/julia/stdlib/v1.5/LinearAlgebra/src/lapack.jl:5279",
      " [3] eigen!(::Hermitian{Complex{Float64},Array{Complex{Float64},2}}, ::Hermitian{Complex{Float64},Array{Complex{Float64},2}}; sortby::var\"#102#104\"{Float64,Float64,Float64}) at /buildworker/worker/package_linux64/build/usr/share/julia/stdlib/v1.5/LinearAlgebra/src/symmetric.jl:829",
      " [4] feast(::Array{Float64,2}, ::Array{Complex{Float64},2}, ::Array{Complex{Float64},1}, ::Array{Complex{Float64},1}, ::Float64, ::Float64; tol::Float64, maxiter::Int64) at ./In[132]:60",
      " [5] #feast#99 at ./In[132]:8 [inlined]",
      " [6] top-level scope at In[170]:1",
      " [7] include_string(::Function, ::Module, ::String, ::String) at ./loading.jl:1091"
     ]
    }
   ],
   "source": [
    "feast(A, M0, λmin, λmax; cpts=8, tol=1.0e-12, maxiter=20)"
   ]
  },
  {
   "cell_type": "code",
   "execution_count": 168,
   "metadata": {},
   "outputs": [],
   "source": [
    "M, M0 = length(vals[200:300]), ceil(Int, 1.5*length(vals[200:300]))\n",
    "Y0 = rand(Complex{Float64}, N, M0);\n",
    "fvals, fvecs, info_neigs, info_error = feast(H, Y0, zs, ws, λmin, λmax; tol=1.0e-12, maxiter=50);"
   ]
  },
  {
   "cell_type": "code",
   "execution_count": 169,
   "metadata": {},
   "outputs": [
    {
     "name": "stdout",
     "output_type": "stream",
     "text": [
      "  1.594 s (30528 allocations: 878.35 MiB)\n"
     ]
    }
   ],
   "source": [
    "@btime feast($H, $Y0, $zs, $ws, $λmin, $λmax; tol=1.0e-12, maxiter=30);"
   ]
  },
  {
   "cell_type": "code",
   "execution_count": 157,
   "metadata": {},
   "outputs": [
    {
     "name": "stdout",
     "output_type": "stream",
     "text": [
      "  1.092 ms (64 allocations: 1.56 MiB)\n"
     ]
    }
   ],
   "source": [
    "@btime lu($H);"
   ]
  },
  {
   "cell_type": "code",
   "execution_count": 150,
   "metadata": {},
   "outputs": [
    {
     "data": {
      "image/png": "[encoded data removed]",
      "text/plain": [
       "Figure(PyObject <Figure size 640x480 with 1 Axes>)"
      ]
     },
     "metadata": {},
     "output_type": "display_data"
    },
    {
     "data": {
      "text/plain": [
       "1-element Array{PyCall.PyObject,1}:\n",
       " PyObject <matplotlib.lines.Line2D object at 0x7fe9126637c0>"
      ]
     },
     "execution_count": 150,
     "metadata": {},
     "output_type": "execute_result"
    }
   ],
   "source": [
    "pygui(false)\n",
    "semilogy(info_error)"
   ]
  },
  {
   "cell_type": "code",
   "execution_count": 126,
   "metadata": {},
   "outputs": [
    {
     "data": {
      "image/png": "[encoded data removed]",
      "text/plain": [
       "Figure(PyObject <Figure size 640x480 with 1 Axes>)"
      ]
     },
     "metadata": {},
     "output_type": "display_data"
    },
    {
     "data": {
      "text/plain": [
       "1-element Array{PyCall.PyObject,1}:\n",
       " PyObject <matplotlib.lines.Line2D object at 0x7fe912692a30>"
      ]
     },
     "execution_count": 126,
     "metadata": {},
     "output_type": "execute_result"
    }
   ],
   "source": [
    "plot(info_neigs)"
   ]
  },
  {
   "cell_type": "code",
   "execution_count": 81,
   "metadata": {},
   "outputs": [
    {
     "data": {
      "text/plain": [
       "(-1.8384860451593372, -1.6100691100573552)"
      ]
     },
     "execution_count": 81,
     "metadata": {},
     "output_type": "execute_result"
    }
   ],
   "source": [
    "pygui(true)\n",
    "scatter([real(z) for z in zs], [imag(z) for z in zs])\n",
    "\n",
    "scatter(vals, [0.0 for e in vals])\n",
    "scatter(real.(fvals), imag.(fvals), s = 15)\n",
    "scatter(real.(avals), imag.(avals), s = 10)\n",
    "\n",
    "xlim(λmin-0.01, λmax+0.01)"
   ]
  },
  {
   "cell_type": "code",
   "execution_count": 77,
   "metadata": {},
   "outputs": [
    {
     "data": {
      "text/plain": [
       "(-1.8284860451593372, -1.6200691100573552)"
      ]
     },
     "execution_count": 77,
     "metadata": {},
     "output_type": "execute_result"
    }
   ],
   "source": [
    "pygui(true)\n",
    "scatter([real(z) for z in zs], [imag(z) for z in zs])\n",
    "scatter(vals, [0.0 for e in vals])\n",
    "\n",
    "scatter(real.(fvals), imag.(fvals), s = 15)\n",
    "scatter(real.(avals), imag.(avals), s = 5)\n",
    "\n",
    "xlim(λmin, λmax)"
   ]
  },
  {
   "cell_type": "code",
   "execution_count": 319,
   "metadata": {},
   "outputs": [
    {
     "data": {
      "text/plain": [
       "101"
      ]
     },
     "execution_count": 319,
     "metadata": {},
     "output_type": "execute_result"
    }
   ],
   "source": [
    "length(vals[10:110])"
   ]
  },
  {
   "cell_type": "code",
   "execution_count": 318,
   "metadata": {},
   "outputs": [
    {
     "data": {
      "text/plain": [
       "30-element Array{Int64,1}:\n",
       "  99\n",
       " 101\n",
       " 100\n",
       "  99\n",
       " 100\n",
       " 100\n",
       "   0\n",
       "   0\n",
       "   0\n",
       "   0\n",
       "   0\n",
       "   0\n",
       "   0\n",
       "   ⋮\n",
       "   0\n",
       "   0\n",
       "   0\n",
       "   0\n",
       "   0\n",
       "   0\n",
       "   0\n",
       "   0\n",
       "   0\n",
       "   0\n",
       "   0\n",
       "   0"
      ]
     },
     "execution_count": 318,
     "metadata": {},
     "output_type": "execute_result"
    }
   ],
   "source": [
    "infoneigs"
   ]
  },
  {
   "cell_type": "code",
   "execution_count": 160,
   "metadata": {},
   "outputs": [
    {
     "name": "stdout",
     "output_type": "stream",
     "text": [
      "  201.565 ms (7094 allocations: 91.03 MiB)\n"
     ]
    }
   ],
   "source": [
    "@btime prototypefeast($H, $Y0, $zs, $ws, $λmin, $λmax; tol=1.0e-12, maxiter=30);"
   ]
  },
  {
   "cell_type": "code",
   "execution_count": 157,
   "metadata": {},
   "outputs": [
    {
     "name": "stdout",
     "output_type": "stream",
     "text": [
      "  200.093 ms (7102 allocations: 91.11 MiB)\n"
     ]
    }
   ],
   "source": [
    "@btime prototypefeast($H, $Y0, $zs, $ws, $λmin, $λmax; tol=1.0e-12, maxiter=30);"
   ]
  },
  {
   "cell_type": "code",
   "execution_count": 166,
   "metadata": {},
   "outputs": [
    {
     "name": "stdout",
     "output_type": "stream",
     "text": [
      "  53.226 ms (14 allocations: 5.97 MiB)\n"
     ]
    }
   ],
   "source": [
    "h = Matrix(H)\n",
    "@btime eigen(h);"
   ]
  },
  {
   "cell_type": "code",
   "execution_count": 161,
   "metadata": {},
   "outputs": [],
   "source": [
    "fvals, fvecs, infoneigs, infoerror = prototypefeast(H, Y0, zs, ws, λmin, λmax; tol=1.0e-12, maxiter=30);"
   ]
  },
  {
   "cell_type": "code",
   "execution_count": 150,
   "metadata": {},
   "outputs": [
    {
     "data": {
      "image/png": "[encoded data removed]",
      "text/plain": [
       "Figure(PyObject <Figure size 640x480 with 1 Axes>)"
      ]
     },
     "metadata": {},
     "output_type": "display_data"
    },
    {
     "data": {
      "text/plain": [
       "PyObject <matplotlib.collections.PathCollection object at 0x7f44e8914100>"
      ]
     },
     "execution_count": 150,
     "metadata": {},
     "output_type": "execute_result"
    }
   ],
   "source": [
    "scatter([real(z) for z in zs], [imag(z) for z in zs])\n",
    "scatter(vals, [0.0 for e in vals])\n",
    "xlim(-0.5, -0.2)\n",
    "scatter(real.(fvals), imag.(fvals))\n"
   ]
  },
  {
   "cell_type": "code",
   "execution_count": 154,
   "metadata": {},
   "outputs": [
    {
     "data": {
      "image/png": "[encoded data removed]",
      "text/plain": [
       "Figure(PyObject <Figure size 640x480 with 1 Axes>)"
      ]
     },
     "metadata": {},
     "output_type": "display_data"
    },
    {
     "data": {
      "text/plain": [
       "1-element Array{PyCall.PyObject,1}:\n",
       " PyObject <matplotlib.lines.Line2D object at 0x7f44e8982fd0>"
      ]
     },
     "execution_count": 154,
     "metadata": {},
     "output_type": "execute_result"
    }
   ],
   "source": [
    "semilogy(infoerror)"
   ]
  },
  {
   "cell_type": "code",
   "execution_count": 155,
   "metadata": {},
   "outputs": [
    {
     "data": {
      "image/png": "[encoded data removed]",
      "text/plain": [
       "Figure(PyObject <Figure size 640x480 with 1 Axes>)"
      ]
     },
     "metadata": {},
     "output_type": "display_data"
    },
    {
     "data": {
      "text/plain": [
       "1-element Array{PyCall.PyObject,1}:\n",
       " PyObject <matplotlib.lines.Line2D object at 0x7f44da712fd0>"
      ]
     },
     "execution_count": 155,
     "metadata": {},
     "output_type": "execute_result"
    }
   ],
   "source": [
    "plot(infoneigs)"
   ]
  },
  {
   "cell_type": "code",
   "execution_count": 132,
   "metadata": {},
   "outputs": [
    {
     "data": {
      "text/plain": [
       "30-element Array{Int64,1}:\n",
       " 26\n",
       " 25\n",
       " 31\n",
       " 32\n",
       " 15\n",
       " 28\n",
       "  9\n",
       " 26\n",
       " 10\n",
       " 24\n",
       " 30\n",
       " 28\n",
       " 29\n",
       "  ⋮\n",
       " 29\n",
       " 31\n",
       " 24\n",
       " 24\n",
       " 25\n",
       " 26\n",
       " 25\n",
       " 24\n",
       " 26\n",
       " 26\n",
       " 24\n",
       " 28"
      ]
     },
     "execution_count": 132,
     "metadata": {},
     "output_type": "execute_result"
    }
   ],
   "source": [
    "infoneigs"
   ]
  },
  {
   "cell_type": "code",
   "execution_count": 89,
   "metadata": {},
   "outputs": [
    {
     "data": {
      "image/png": "[encoded data removed]",
      "text/plain": [
       "Figure(PyObject <Figure size 640x480 with 1 Axes>)"
      ]
     },
     "metadata": {},
     "output_type": "display_data"
    },
    {
     "data": {
      "text/plain": [
       "1-element Array{PyCall.PyObject,1}:\n",
       " PyObject <matplotlib.lines.Line2D object at 0x7f44eb4194f0>"
      ]
     },
     "execution_count": 89,
     "metadata": {},
     "output_type": "execute_result"
    }
   ],
   "source": [
    "plot(infoerror)"
   ]
  },
  {
   "cell_type": "code",
   "execution_count": 165,
   "metadata": {},
   "outputs": [
    {
     "data": {
      "text/plain": [
       "formBQ! (generic function with 2 methods)"
      ]
     },
     "execution_count": 165,
     "metadata": {},
     "output_type": "execute_result"
    }
   ],
   "source": [
    "function formAQ!(AQ, temp, A, Q)\n",
    "    mul!(temp, A, Q)\n",
    "    mul!(AQ, Q', temp)\n",
    "    return AQ\n",
    "end\n",
    "\n",
    "function formBQ!(BQ, Q)\n",
    "    mul!(BQ, Q', Q)\n",
    "    return BQ\n",
    "end"
   ]
  },
  {
   "cell_type": "code",
   "execution_count": 166,
   "metadata": {},
   "outputs": [
    {
     "data": {
      "text/plain": [
       "feast (generic function with 1 method)"
      ]
     },
     "execution_count": 166,
     "metadata": {},
     "output_type": "execute_result"
    }
   ],
   "source": [
    "# for convergence creeria we will use the relative error of sum of eigenvalues in search interval\n",
    "function feast(A, Y, zs, ws, λmin, λmax; tol=1.0e-12, maxiter=30)\n",
    "    \n",
    "    # allocate return and temporary vectors\n",
    "    Q = similar(Y)\n",
    "    q = zeros(eltype(Y), size(Q, 1))\n",
    "    \n",
    "    neig = 0\n",
    "    \n",
    "    rerror = 0.0\n",
    "    previous = 0.0\n",
    "    \n",
    "    # precompute and store factorizations\n",
    "    F = [lu(z*I - A) for z in zs]\n",
    "    \n",
    "    for iter in 1:maxiter\n",
    "        \n",
    "        fill!(Q, zero(eltype(Q)))\n",
    "        \n",
    "        for i in 1:length(zs)\n",
    "            for n in axes(Y, 2)\n",
    "    \n",
    "                ldiv!(q, F[i], view(Y, :, n))\n",
    "                \n",
    "                Q[:, n] .+= ws[i]*q\n",
    "\n",
    "            end\n",
    "        end\n",
    "        \n",
    "        AQ = Q'*A*Q\n",
    "        BQ = Q'*Q\n",
    "        #formAQ!(AQ, tempAQ, A, Q)\n",
    "        #formBQ!(BQ, Q)\n",
    "        \n",
    "        ritzvals, ritzvecs = eigen(AQ, BQ, sortby = λ -> (!(λmin < real(λ) <= λmax), real(λ), imag(λ)))\n",
    "        \n",
    "        # determine number of eigenvalues is inside\n",
    "        neig = 0\n",
    "        for λ in ritzvals\n",
    "            if λmin < real(λ) <= λmax\n",
    "                neig += 1\n",
    "            end\n",
    "        end\n",
    "        \n",
    "        # estimate relative error of the trace of the eigenvalues\n",
    "        tr = sum(ritzvals[1:neig])\n",
    "        rerror = abs(tr - previous)/abs(tr)\n",
    "        previous = sum(ritzvals[1:neig])\n",
    "\n",
    "        if rerror > tol && iter + 1 < maxiter\n",
    "            \n",
    "            Y .= Q*ritzvecs\n",
    "            \n",
    "        elseif rerror < tol && iter > 1\n",
    "            \n",
    "            return ritzvals, Q*ritzvecs\n",
    "        \n",
    "        elseif rerror > tol && iter + 1 > maxiter\n",
    "            \n",
    "            @warn \"Maximum number of iterations reached\"\n",
    "            return ritzvals, Q*ritzvecs\n",
    "        end\n",
    "            \n",
    "        else\n",
    "        end\n",
    "        \n",
    "    end\n",
    "\n",
    "    @warn \"Maximum number of iterations reached\"\n",
    "    \n",
    "    return ritzvals, Q*ritzvecs\n",
    "\n",
    "end\n"
   ]
  },
  {
   "cell_type": "code",
   "execution_count": 168,
   "metadata": {},
   "outputs": [],
   "source": [
    "N = 500\n",
    "H = chain1D(N, 0.2);"
   ]
  },
  {
   "cell_type": "code",
   "execution_count": 169,
   "metadata": {},
   "outputs": [
    {
     "data": {
      "text/plain": [
       "true"
      ]
     },
     "execution_count": 169,
     "metadata": {},
     "output_type": "execute_result"
    }
   ],
   "source": [
    "H |> ishermitian"
   ]
  },
  {
   "cell_type": "code",
   "execution_count": 170,
   "metadata": {},
   "outputs": [],
   "source": [
    "vals, vecs = eigen(Matrix(H));"
   ]
  },
  {
   "cell_type": "code",
   "execution_count": 193,
   "metadata": {},
   "outputs": [],
   "source": [
    "λmin, λmax = vals[19], vals[35]\n",
    "zs, ws = cauchynodes(λmin+0.003, λmax-0.003, 10);"
   ]
  },
  {
   "cell_type": "code",
   "execution_count": 194,
   "metadata": {},
   "outputs": [
    {
     "data": {
      "image/png": "[encoded data removed]",
      "text/plain": [
       "Figure(PyObject <Figure size 640x480 with 1 Axes>)"
      ]
     },
     "metadata": {},
     "output_type": "display_data"
    },
    {
     "data": {
      "text/plain": [
       "(-0.001, 0.001)"
      ]
     },
     "execution_count": 194,
     "metadata": {},
     "output_type": "execute_result"
    }
   ],
   "source": [
    "pygui(false)\n",
    "scatter([real(z) for z in zs], [imag(z) for z in zs])\n",
    "scatter([e for e in vals], [0.0 for e in vals])\n",
    "\n",
    "xlim(λmin-0.01, λmax+0.01)\n",
    "ylim(-0.001, 0.001)"
   ]
  },
  {
   "cell_type": "code",
   "execution_count": 195,
   "metadata": {},
   "outputs": [
    {
     "data": {
      "text/plain": [
       "17"
      ]
     },
     "execution_count": 195,
     "metadata": {},
     "output_type": "execute_result"
    }
   ],
   "source": [
    "M = 35-19+1"
   ]
  },
  {
   "cell_type": "code",
   "execution_count": 199,
   "metadata": {},
   "outputs": [
    {
     "data": {
      "text/plain": [
       "26"
      ]
     },
     "execution_count": 199,
     "metadata": {},
     "output_type": "execute_result"
    }
   ],
   "source": [
    "M0 = ceil(Int, 1.5*M)"
   ]
  },
  {
   "cell_type": "code",
   "execution_count": 197,
   "metadata": {},
   "outputs": [],
   "source": [
    "Y = rand(Complex{Float64}, size(H, 1), M0);"
   ]
  },
  {
   "cell_type": "code",
   "execution_count": 198,
   "metadata": {},
   "outputs": [
    {
     "name": "stderr",
     "output_type": "stream",
     "text": [
      "┌ Warning: Maximum number of iterations reached\n",
      "└ @ Main In[164]:57\n"
     ]
    },
    {
     "ename": "LoadError",
     "evalue": "UndefVarError: ritzvecs not defined",
     "output_type": "error",
     "traceback": [
      "UndefVarError: ritzvecs not defined",
      "",
      "Stacktrace:",
      " [1] prototypefeast(::SparseMatrixCSC{Float64,Int64}, ::Array{Complex{Float64},2}, ::Array{Complex{Float64},1}, ::Array{Complex{Float64},1}, ::Float64, ::Float64; tol::Float64, maxiter::Int64) at ./In[164]:59",
      " [2] top-level scope at In[198]:1",
      " [3] include_string(::Function, ::Module, ::String, ::String) at ./loading.jl:1091"
     ]
    }
   ],
   "source": [
    "prototypefeast(H, Y, zs, ws, λmin, λmax; tol = 1.0e-6, maxiter = 100)"
   ]
  },
  {
   "cell_type": "code",
   "execution_count": 162,
   "metadata": {},
   "outputs": [
    {
     "name": "stderr",
     "output_type": "stream",
     "text": [
      "┌ Warning: Maximum number of iterations reached\n",
      "└ @ Main In[105]:63\n"
     ]
    },
    {
     "ename": "LoadError",
     "evalue": "UndefVarError: ritzvecs not defined",
     "output_type": "error",
     "traceback": [
      "UndefVarError: ritzvecs not defined",
      "",
      "Stacktrace:",
      " [1] feast(::SparseMatrixCSC{Float64,Int64}, ::Array{Complex{Float64},2}, ::Array{Complex{Float64},1}, ::Array{Complex{Float64},1}, ::Float64, ::Float64; tol::Float64, maxiter::Int64) at ./In[105]:65",
      " [2] top-level scope at In[162]:1",
      " [3] include_string(::Function, ::Module, ::String, ::String) at ./loading.jl:1091"
     ]
    }
   ],
   "source": [
    "feast(H, Y, zs, ws, λmin, λmax; tol = 1.0e-6, maxiter = 50)"
   ]
  },
  {
   "cell_type": "code",
   "execution_count": 29,
   "metadata": {},
   "outputs": [
    {
     "name": "stdout",
     "output_type": "stream",
     "text": [
      "  162.471 ms (6086 allocations: 82.32 MiB)\n"
     ]
    },
    {
     "data": {
      "text/plain": [
       "([-1.9911837792252627, -1.9907196250974915, -1.988290839031513, -1.9869619952535211, -1.9860244585158415, -1.9846570581221659, -1.9829760561267586, -1.9797366138804111, -1.9769029377114495, -1.9748844778716992  …  -1.9568995037760848, -2.0025566365091887, -1.9998733630322314, -1.9984724473165563, -1.9975547403380962, -1.9944399878720747, -1.9936941392016616, -1.954942610248944, -1.9516896282671037, -1.950045557820824], Complex{Float64}[-0.0009656209398021461 + 0.0011365027272684854im -0.10722123111129431 + 0.1751098676978964im … 0.0036117659642822446 - 0.014855110195004063im 0.035888469843272965 - 0.037557347754902416im; -0.0009608836851253936 + 0.0011309271409931996im -0.10559482238702066 + 0.17245367532276226im … 0.0050395286852589405 - 0.020727465370334475im 0.02888480557131201 - 0.03022800059216503im; … ; -0.0008792624990178427 + 0.0010348618043867683im -0.09964687174276908 + 0.16273969573501415im … 9.329543905692502e-5 - 0.00038372199131179096im 0.041533633662412466 - 0.0434650217687278im; -0.0009392429240581911 + 0.0011054567074505863im -0.10534287550248313 + 0.1720422047104508im … 0.0019249774282706664 - 0.007917387810476444im 0.0402593096476023 - 0.04213143941246908im])"
      ]
     },
     "execution_count": 29,
     "metadata": {},
     "output_type": "execute_result"
    }
   ],
   "source": [
    "@btime feast($H, $Y, $zs, $ws, $λmin, $λmax; tol = 1.0e-12, maxiter = 40)"
   ]
  },
  {
   "cell_type": "code",
   "execution_count": 34,
   "metadata": {},
   "outputs": [
    {
     "name": "stdout",
     "output_type": "stream",
     "text": [
      "  148.172 ms (5693 allocations: 75.08 MiB)\n"
     ]
    },
    {
     "data": {
      "text/plain": [
       "([-1.9911837792252636, -1.9907196250974935, -1.9882908390315122, -1.9869619952535214, -1.9860244585158384, -1.9846570581221643, -1.9829760561267589, -1.9797366138804093, -1.9769029377114504, -1.9748844778717  …  -1.956899503776084, -2.0025566365091847, -1.9998733630322345, -1.998472447316558, -1.9975547403380973, -1.994439987872076, -1.9936941392016627, -1.9549426102489442, -1.9516896282671037, -1.9500455578208247], Complex{Float64}[0.00031857924719138475 - 0.0014569040847054475im 0.09023604105466802 - 0.18443783522092072im … -0.014351612673901835 + 0.005267861610306294im 0.035888469843880964 - 0.03755734775431062im; 0.0003170163243440874 - 0.0014497566364629416im 0.08886727590532036 - 0.18164014952769952im … -0.02002493086902032 + 0.00735029344581683im 0.028884805571808638 - 0.030228000591702723im; … ; 0.00029008772850151 - 0.001326608686230916im 0.08386155536879218 - 0.17140871374342462im … -0.0003707161590673549 + 0.00013607400555976242im 0.04153363366309698 - 0.04346502176804635im; 0.00030987656889212275 - 0.0014171056117235083im 0.08865524057256993 - 0.18120676019339735im … -0.007649036712186775 + 0.002807633383618463im 0.04025930964828878 - 0.04213143941180585im])"
      ]
     },
     "execution_count": 34,
     "metadata": {},
     "output_type": "execute_result"
    }
   ],
   "source": [
    "@btime feast($H, $Y, $zs, $ws, $λmin, $λmax; tol = 1.0e-12, maxiter = 40)"
   ]
  },
  {
   "cell_type": "code",
   "execution_count": 36,
   "metadata": {},
   "outputs": [
    {
     "name": "stdout",
     "output_type": "stream",
     "text": [
      "  60.365 ms (16 allocations: 7.81 MiB)\n"
     ]
    },
    {
     "data": {
      "text/plain": [
       "Eigen{Float64,Float64,Array{Float64,2},Array{Float64,1}}\n",
       "values:\n",
       "500-element Array{Float64,1}:\n",
       " -2.0276803131803063\n",
       " -2.0140965811545763\n",
       " -2.011976616814974\n",
       " -2.0099980004244675\n",
       " -2.0074197289276268\n",
       " -2.006954734752619\n",
       " -2.0066359210635625\n",
       " -2.005821778184667\n",
       " -2.004876388064808\n",
       " -2.0025566365091847\n",
       " -2.0011397866900418\n",
       " -2.000557564305677\n",
       " -1.9998733630322356\n",
       "  ⋮\n",
       "  1.9996693181204321\n",
       "  2.002412616958528\n",
       "  2.0032559117952857\n",
       "  2.0047302690223088\n",
       "  2.005717395215181\n",
       "  2.0085494807788824\n",
       "  2.0110344428831293\n",
       "  2.011418499324366\n",
       "  2.0122139394654672\n",
       "  2.0135826993545347\n",
       "  2.0149744520061295\n",
       "  2.019560259843983\n",
       "vectors:\n",
       "500×500 Array{Float64,2}:\n",
       " -3.90718e-15  -0.000316859  -0.00145119   …   2.13023e-8   4.59165e-7\n",
       " -3.1877e-15   -0.00034353   -0.00128018      -2.16761e-8  -4.20235e-7\n",
       " -2.42531e-15  -0.000352666  -0.00104111       2.37864e-8   4.16901e-7\n",
       " -1.92927e-15  -0.000381708  -0.000858591     -2.52457e-8  -4.04067e-7\n",
       " -1.77976e-15  -0.000445606  -0.00075266       2.51335e-8   3.67934e-7\n",
       " -1.5272e-15   -0.000492864  -0.000617026  …  -2.66905e-8  -3.57925e-7\n",
       " -1.46636e-15  -0.000566371  -0.000512946      2.7602e-8    3.40899e-7\n",
       " -1.35973e-15  -0.000664853  -0.000430398     -2.80987e-8  -3.20315e-7\n",
       " -1.2318e-15   -0.000811373  -0.000378036      2.7382e-8    2.87367e-7\n",
       " -1.05873e-15  -0.000953818  -0.000322973     -2.75989e-8  -2.65535e-7\n",
       " -8.96356e-16  -0.00111899   -0.00027492   …   2.79606e-8   2.46314e-7\n",
       " -7.97635e-16  -0.00138705   -0.000251565     -2.6564e-8   -2.12732e-7\n",
       " -5.80672e-16  -0.00166777   -0.000229971      2.56974e-8   1.84371e-7\n",
       "  ⋮                                        ⋱               \n",
       " -3.98159e-14  -5.64149e-5   -0.00770515       2.41941e-8   1.099e-6\n",
       " -2.92538e-14  -5.40384e-5   -0.00588154      -2.95571e-8  -1.23425e-6\n",
       " -2.22021e-14  -5.73578e-5   -0.0046654    …   3.26638e-8   1.28095e-6\n",
       " -1.72963e-14  -6.53451e-5   -0.00381906      -3.40618e-8  -1.26651e-6\n",
       " -1.42996e-14  -7.9126e-5    -0.00330322       3.343e-8     1.1824e-6\n",
       " -1.14263e-14  -9.19468e-5   -0.0027403       -3.41757e-8  -1.15245e-6\n",
       " -8.898e-15    -0.000106944  -0.00223643       3.51061e-8   1.134e-6\n",
       " -7.50928e-15  -0.000133438  -0.00196825   …  -3.32828e-8  -1.0318e-6\n",
       " -6.76287e-15  -0.000172106  -0.00187547       2.93907e-8   8.70199e-7\n",
       " -6.17247e-15  -0.000214902  -0.00182368      -2.56481e-8  -7.17016e-7\n",
       " -5.48151e-15  -0.00025392   -0.00173598       2.3102e-8    6.00571e-7\n",
       " -4.69266e-15  -0.000287237  -0.00160561      -2.17462e-8  -5.17823e-7"
      ]
     },
     "execution_count": 36,
     "metadata": {},
     "output_type": "execute_result"
    }
   ],
   "source": [
    "@btime eigen(Matrix(H))"
   ]
  },
  {
   "cell_type": "code",
   "execution_count": 25,
   "metadata": {},
   "outputs": [
    {
     "data": {
      "text/plain": [
       "(-2.01, -1.9)"
      ]
     },
     "execution_count": 25,
     "metadata": {},
     "output_type": "execute_result"
    }
   ],
   "source": [
    "pygui(true)\n",
    "scatter([real(z) for z in zs], [imag(z) for z in zs])\n",
    "scatter([e for e in vals], [0.0 for e in vals])\n",
    "scatter([e for e in fvals], [0.0 for e in fvals], s = 10)\n",
    "ylim(-0.01, 0.01)\n",
    "xlim(-2.01, -1.9)"
   ]
  },
  {
   "cell_type": "code",
   "execution_count": 118,
   "metadata": {},
   "outputs": [],
   "source": [
    "Y = rand(Complex{Float64}, N, ceil(Int, 1.5*16))\n",
    "Q = zero(Y)\n",
    ";"
   ]
  },
  {
   "cell_type": "code",
   "execution_count": 123,
   "metadata": {},
   "outputs": [],
   "source": [
    "  # allocate return and temporary vectors\n",
    "    Q = similar(Y)\n",
    "    q = zeros(eltype(Y), size(Q, 1))\n",
    "    \n",
    "    AQ = zeros(eltype(Y), size(Y, 2), size(Y, 2))\n",
    "    tempAQ = zeros(eltype(Y), size(H, 1), size(Y, 2))\n",
    "    \n",
    "    BQ = zeros(eltype(Y), size(Y, 2), size(Y, 2))\n",
    "    \n",
    "    neig = 0\n",
    "    \n",
    "    rerror = 0.0\n",
    "    previous = 0.0\n",
    "    \n",
    "    # precompute and store factorizations\n",
    "    F = [lu(z*I - H) for z in zs]\n",
    ";"
   ]
  },
  {
   "cell_type": "code",
   "execution_count": 124,
   "metadata": {},
   "outputs": [],
   "source": [
    "fill!(Q, zero(eltype(Q)))\n",
    "        \n",
    "for i in 1:length(zs)\n",
    "    for n in axes(Y, 2)\n",
    "    \n",
    "        ldiv!(q, F[i], view(Y, :, n))\n",
    "                \n",
    "         Q[:, n] .+= ws[i]*q\n",
    "\n",
    "    end\n",
    "end"
   ]
  },
  {
   "cell_type": "code",
   "execution_count": 126,
   "metadata": {},
   "outputs": [
    {
     "data": {
      "text/plain": [
       "24×24 Array{Complex{Float64},2}:\n",
       " 22.7858+0.0im        22.6459-0.848062im    …    23.27+1.38167im\n",
       " 22.6459+0.848062im   28.3779+0.0im            26.8808+2.63149im\n",
       " 22.1654+1.38412im    23.5063+0.686958im       23.6828+3.00565im\n",
       " 22.1836+1.29407im     25.928-0.504891im        26.206+2.74597im\n",
       " 22.6506-0.229861im   24.5949-0.726135im       25.1178+2.32636im\n",
       " 21.5432-0.178197im   24.7194+0.531901im    …  24.1174+2.36377im\n",
       " 20.3385+0.289558im   23.1459-0.0649672im      23.1418+1.91596im\n",
       " 20.8678+0.309665im   23.2136-0.848261im       24.5955+2.17185im\n",
       "  23.364+1.85183im     26.015+0.00841715im     26.8046+3.19351im\n",
       " 21.8803-0.4233im     25.9723-2.17528im        25.2844+0.350068im\n",
       " 22.9495+1.99673im    26.2772+0.348114im    …  26.4888+3.00429im\n",
       "  21.659-1.7499im     24.9789-2.88187im        25.6829-0.568676im\n",
       " 21.2541+0.159614im   23.0847-0.841735im       23.4525+1.96487im\n",
       " 23.3661-1.53791im    25.4914-2.42723im        26.8581-0.356319im\n",
       " 24.5188+2.11395im    28.1277+1.06249im        28.8685+3.89895im\n",
       " 21.6115-0.0617663im  22.8057-1.60804im     …  23.7802+1.12819im\n",
       "  21.307-0.608375im   24.4765-0.957921im       24.3145+1.14917im\n",
       " 20.5316+1.88479im     23.652+0.840582im       24.2865+3.4438im\n",
       " 23.3664+0.40663im    27.3786-1.1015im         27.3673+2.01245im\n",
       " 23.4172-2.21923im    25.4752-3.69347im        26.4235-0.768954im\n",
       " 22.0364-0.758776im   24.6041-1.49203im     …  25.3574+1.10691im\n",
       " 20.7588+0.807112im   23.8547-0.573304im       24.4693+0.904161im\n",
       " 20.8453+0.165698im   23.7175-0.69916im         24.433+1.73467im\n",
       "   23.27-1.38167im    26.8808-2.63149im        28.9499+0.0im"
      ]
     },
     "execution_count": 126,
     "metadata": {},
     "output_type": "execute_result"
    }
   ],
   "source": [
    "formAQ!(AQ, tempAQ, H, Q)\n",
    "formBQ!(BQ, Q)"
   ]
  },
  {
   "cell_type": "code",
   "execution_count": 129,
   "metadata": {},
   "outputs": [
    {
     "data": {
      "text/plain": [
       "(5.64321875395047e-13, 0.0)"
      ]
     },
     "execution_count": 129,
     "metadata": {},
     "output_type": "execute_result"
    }
   ],
   "source": [
    "norm(AQ - Q'*H*Q), norm(BQ - Q'*Q)"
   ]
  },
  {
   "cell_type": "code",
   "execution_count": 132,
   "metadata": {},
   "outputs": [
    {
     "data": {
      "text/plain": [
       "7.106728823117613e-14"
      ]
     },
     "execution_count": 132,
     "metadata": {},
     "output_type": "execute_result"
    }
   ],
   "source": [
    "maximum(abs.(AQ - Q'*H*Q))"
   ]
  },
  {
   "cell_type": "code",
   "execution_count": 119,
   "metadata": {},
   "outputs": [
    {
     "ename": "LoadError",
     "evalue": "UndefVarError: directcauchyfilter! not defined",
     "output_type": "error",
     "traceback": [
      "UndefVarError: directcauchyfilter! not defined",
      "",
      "Stacktrace:",
      " [1] top-level scope at ./In[119]:2",
      " [2] include_string(::Function, ::Module, ::String, ::String) at ./loading.jl:1091"
     ]
    }
   ],
   "source": [
    "for n in axes(Y, 2)\n",
    "    directcauchyfilter!(view(Q, :, n), H, view(Y, :, n), zs, ws)\n",
    "end"
   ]
  },
  {
   "cell_type": "code",
   "execution_count": 245,
   "metadata": {},
   "outputs": [
    {
     "data": {
      "text/plain": [
       "500×24 Array{Complex{Float64},2}:\n",
       "  4.54848e33-1.82788e33im  …   2.19864e32+5.18201e32im\n",
       "   4.8402e33-1.84421e33im      6.38862e32+8.85836e32im\n",
       "  4.54618e33-1.65022e33im      9.31517e32+1.11031e33im\n",
       "   4.1929e33-1.44587e33im      1.15239e33+1.27627e33im\n",
       "  3.49258e33-1.13089e33im      1.21044e33+1.28677e33im\n",
       "  2.79418e33-8.22481e32im  …   1.20183e33+1.24842e33im\n",
       "  1.96063e33-4.76835e32im      1.07026e33+1.10244e33im\n",
       "  1.03047e33-1.06175e32im      8.29466e32+8.61883e32im\n",
       "  7.82781e31+2.73834e32im      5.29615e32+5.75586e32im\n",
       " -8.93509e32+6.51833e32im      1.61742e32+2.29495e32im\n",
       " -1.77525e33+9.68517e32im  …  -2.49055e32-1.60609e32im\n",
       " -2.52328e33+1.22203e33im     -6.43101e32-5.39104e32im\n",
       " -3.41039e33+1.5552e33im       -1.0535e33-9.31385e32im\n",
       "            ⋮              ⋱  \n",
       " -6.29942e32-1.12564e33im     -1.40048e33-1.21666e33im\n",
       " -1.67147e32-1.3347e33im      -1.97094e33-1.63503e33im\n",
       "  3.16211e32-1.46543e33im  …  -2.34521e33-1.89305e33im\n",
       "  8.30589e32-1.69387e33im     -2.78139e33-2.20198e33im\n",
       "  1.27833e33-1.76882e33im     -2.85399e33-2.22261e33im\n",
       "  1.59391e33-1.65298e33im     -2.50456e33-1.91278e33im\n",
       "  1.97489e33-1.60333e33im     -2.15576e33-1.60048e33im\n",
       "  2.41472e33-1.60399e33im  …  -1.79007e33-1.27148e33im\n",
       "  2.86484e33-1.61708e33im     -1.37045e33-8.98797e32im\n",
       "  3.53779e33-1.76387e33im     -1.01619e33-5.62751e32im\n",
       "  4.26862e33-1.94992e33im      -6.5523e32-2.16409e32im\n",
       "  4.52936e33-1.93388e33im     -2.16784e32+1.59489e32im"
      ]
     },
     "execution_count": 245,
     "metadata": {},
     "output_type": "execute_result"
    }
   ],
   "source": [
    "Q"
   ]
  },
  {
   "cell_type": "code",
   "execution_count": 246,
   "metadata": {},
   "outputs": [],
   "source": [
    "AQ = Q'*H*Q\n",
    "BQ = Q'*Q\n",
    ";"
   ]
  },
  {
   "cell_type": "code",
   "execution_count": 247,
   "metadata": {},
   "outputs": [],
   "source": [
    "ritzvals, ritzvecs = eigen(AQ, BQ, sortby = λ -> (!(λmin<real(λ)<= λmax), real(λ), imag(λ)));"
   ]
  },
  {
   "cell_type": "code",
   "execution_count": 248,
   "metadata": {},
   "outputs": [
    {
     "data": {
      "image/png": "[encoded data removed]",
      "text/plain": [
       "Figure(PyObject <Figure size 640x480 with 1 Axes>)"
      ]
     },
     "metadata": {},
     "output_type": "display_data"
    },
    {
     "data": {
      "text/plain": [
       "(-0.001, 0.001)"
      ]
     },
     "execution_count": 248,
     "metadata": {},
     "output_type": "execute_result"
    }
   ],
   "source": [
    "scatter([real(z) for z in zs], [imag(z) for z in zs])\n",
    "scatter([e for e in vals], [0.0 for e in vals])\n",
    "scatter([e for e in ritzvals], [0.0 for e in ritzvals], s = 10)\n",
    "\n",
    "xlim(-1.99,-1.95)\n",
    "ylim(-0.001, 0.001)"
   ]
  },
  {
   "cell_type": "code",
   "execution_count": 243,
   "metadata": {},
   "outputs": [
    {
     "data": {
      "text/plain": [
       "500×24 Array{Complex{Float64},2}:\n",
       "  6.35486e27+7.33145e25im  …  -3.71076e26-5.60067e26im\n",
       "  6.87889e27+4.03622e26im     -1.06072e27-1.13963e27im\n",
       "  6.58669e27+6.41673e26im     -1.55493e27-1.53727e27im\n",
       "  6.22627e27+8.27417e26im     -1.94467e27-1.85683e27im\n",
       "   5.3705e27+9.00826e26im     -2.07603e27-1.95378e27im\n",
       "  4.53979e27+9.34662e26im  …   -2.1092e27-1.98056e27im\n",
       "  3.51536e27+8.87148e26im     -1.94272e27-1.84111e27im\n",
       "   2.3486e27+7.65977e26im     -1.59364e27-1.54867e27im\n",
       "  1.17223e27+6.08562e26im     -1.14629e27-1.17956e27im\n",
       " -5.68619e25+3.93725e26im     -5.68619e26-6.94968e26im\n",
       " -1.26828e27+1.13297e26im  …   1.23731e26-9.14301e25im\n",
       "   -2.362e27-1.87489e26im      8.23912e26+5.34587e26im\n",
       " -3.56247e27-5.0021e26im       1.55286e27+1.17921e27im\n",
       "            ⋮              ⋱  \n",
       " -1.17203e27-3.67676e27im      2.43022e27+1.64003e27im\n",
       " -5.90768e26-3.82195e27im      3.27682e27+2.31416e27im\n",
       "  4.22107e25-3.72148e27im  …   3.81531e27+2.75699e27im\n",
       "  6.97653e26-3.84569e27im      4.47078e27+3.27038e27im\n",
       "  1.31122e27-3.59582e27im      4.55746e27+3.35235e27im\n",
       "  1.80271e27-2.93406e27im      3.98373e27+2.93311e27im\n",
       "  2.38015e27-2.37141e27im      3.42097e27+2.50795e27im\n",
       "  3.03966e27-1.87114e27im  …    2.8381e27+2.05486e27im\n",
       "  3.72283e27-1.38074e27im      2.17329e27+1.52958e27im\n",
       "  4.70605e27-1.00842e27im      1.61258e27+1.065e27im\n",
       "  5.77759e27-6.72134e26im      1.03857e27+5.78691e26im\n",
       "  6.22562e27-2.90187e26im      3.36031e26+8.7009e24im"
      ]
     },
     "execution_count": 243,
     "metadata": {},
     "output_type": "execute_result"
    }
   ],
   "source": [
    "Y = Q*ritzvecs"
   ]
  },
  {
   "cell_type": "code",
   "execution_count": 72,
   "metadata": {},
   "outputs": [
    {
     "ename": "LoadError",
     "evalue": "InexactError: Float64(NaN + NaN*im)",
     "output_type": "error",
     "traceback": [
      "InexactError: Float64(NaN + NaN*im)",
      "",
      "Stacktrace:",
      " [1] Real at ./complex.jl:37 [inlined]",
      " [2] convert at ./number.jl:7 [inlined]",
      " [3] setindex! at ./array.jl:847 [inlined]",
      " [4] setindex! at ./subarray.jl:322 [inlined]",
      " [5] macro expansion at ./broadcast.jl:932 [inlined]",
      " [6] macro expansion at ./simdloop.jl:77 [inlined]",
      " [7] copyto! at ./broadcast.jl:931 [inlined]",
      " [8] copyto! at ./broadcast.jl:886 [inlined]",
      " [9] materialize! at ./broadcast.jl:848 [inlined]",
      " [10] materialize! at ./broadcast.jl:845 [inlined]",
      " [11] directcauchyfilter!(::SubArray{Float64,1,Array{Float64,2},Tuple{Base.Slice{Base.OneTo{Int64}},Int64},true}, ::SparseMatrixCSC{Float64,Int64}, ::SubArray{Float64,1,Array{Float64,2},Tuple{Base.Slice{Base.OneTo{Int64}},Int64},true}, ::Array{Complex{Float64},1}, ::Array{Complex{Float64},1}) at ./In[53]:7",
      " [12] feast(::SparseMatrixCSC{Float64,Int64}, ::Array{Float64,2}, ::Array{Complex{Float64},1}, ::Array{Complex{Float64},1}, ::Float64, ::Int64, ::var\"#11#12\") at ./In[54]:13",
      " [13] top-level scope at In[72]:1",
      " [14] include_string(::Function, ::Module, ::String, ::String) at ./loading.jl:1091"
     ]
    }
   ],
   "source": [
    "feast(H, y0, zs, ws, 1.0e-12, 20, λ -> λmin<λ<=λmax)"
   ]
  },
  {
   "cell_type": "code",
   "execution_count": 43,
   "metadata": {},
   "outputs": [
    {
     "data": {
      "text/plain": [
       "false"
      ]
     },
     "execution_count": 43,
     "metadata": {},
     "output_type": "execute_result"
    }
   ],
   "source": [
    "!(0<0.5<6)"
   ]
  },
  {
   "cell_type": "code",
   "execution_count": null,
   "metadata": {},
   "outputs": [],
   "source": []
  }
 ],
 "metadata": {
  "kernelspec": {
   "display_name": "Julia 1.5.1",
   "language": "julia",
   "name": "julia-1.5"
  },
  "language_info": {
   "file_extension": ".jl",
   "mimetype": "application/julia",
   "name": "julia",
   "version": "1.5.1"
  }
 },
 "nbformat": 4,
 "nbformat_minor": 4
}
